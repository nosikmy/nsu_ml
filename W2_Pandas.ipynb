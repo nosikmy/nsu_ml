{
  "cells": [
    {
      "cell_type": "code",
      "execution_count": 139,
      "id": "1754674c",
      "metadata": {
        "id": "1754674c"
      },
      "outputs": [],
      "source": [
        "import pandas as pd\n",
        "import matplotlib.pyplot as plt\n",
        "import seaborn as sns\n"
      ]
    },
    {
      "cell_type": "markdown",
      "id": "8e9d2182",
      "metadata": {
        "id": "8e9d2182"
      },
      "source": [
        "### Часть I"
      ]
    },
    {
      "cell_type": "markdown",
      "id": "0daf31c0",
      "metadata": {
        "id": "0daf31c0"
      },
      "source": [
        "[Titanic dataset](https://www.kaggle.com/competitions/titanic/overview) — данные о пассажирах титаника\n",
        "\n",
        "Загрузим данные"
      ]
    },
    {
      "cell_type": "code",
      "execution_count": 19,
      "id": "be628d64",
      "metadata": {
        "colab": {
          "base_uri": "https://localhost:8080/",
          "height": 206
        },
        "id": "be628d64",
        "outputId": "40d8060b-98ad-4e2b-8790-a2367939b2c7"
      },
      "outputs": [
        {
          "output_type": "execute_result",
          "data": {
            "text/plain": [
              "   PassengerId  Survived  Pclass  \\\n",
              "0            1         0       3   \n",
              "1            2         1       1   \n",
              "2            3         1       3   \n",
              "3            4         1       1   \n",
              "4            5         0       3   \n",
              "\n",
              "                                                Name     Sex   Age  SibSp  \\\n",
              "0                            Braund, Mr. Owen Harris    male  22.0      1   \n",
              "1  Cumings, Mrs. John Bradley (Florence Briggs Th...  female  38.0      1   \n",
              "2                             Heikkinen, Miss. Laina  female  26.0      0   \n",
              "3       Futrelle, Mrs. Jacques Heath (Lily May Peel)  female  35.0      1   \n",
              "4                           Allen, Mr. William Henry    male  35.0      0   \n",
              "\n",
              "   Parch            Ticket     Fare Cabin Embarked  \n",
              "0      0         A/5 21171   7.2500   NaN        S  \n",
              "1      0          PC 17599  71.2833   C85        C  \n",
              "2      0  STON/O2. 3101282   7.9250   NaN        S  \n",
              "3      0            113803  53.1000  C123        S  \n",
              "4      0            373450   8.0500   NaN        S  "
            ],
            "text/html": [
              "\n",
              "  <div id=\"df-1e0b530d-4d95-4a98-ae09-1af8a63bf3ee\" class=\"colab-df-container\">\n",
              "    <div>\n",
              "<style scoped>\n",
              "    .dataframe tbody tr th:only-of-type {\n",
              "        vertical-align: middle;\n",
              "    }\n",
              "\n",
              "    .dataframe tbody tr th {\n",
              "        vertical-align: top;\n",
              "    }\n",
              "\n",
              "    .dataframe thead th {\n",
              "        text-align: right;\n",
              "    }\n",
              "</style>\n",
              "<table border=\"1\" class=\"dataframe\">\n",
              "  <thead>\n",
              "    <tr style=\"text-align: right;\">\n",
              "      <th></th>\n",
              "      <th>PassengerId</th>\n",
              "      <th>Survived</th>\n",
              "      <th>Pclass</th>\n",
              "      <th>Name</th>\n",
              "      <th>Sex</th>\n",
              "      <th>Age</th>\n",
              "      <th>SibSp</th>\n",
              "      <th>Parch</th>\n",
              "      <th>Ticket</th>\n",
              "      <th>Fare</th>\n",
              "      <th>Cabin</th>\n",
              "      <th>Embarked</th>\n",
              "    </tr>\n",
              "  </thead>\n",
              "  <tbody>\n",
              "    <tr>\n",
              "      <th>0</th>\n",
              "      <td>1</td>\n",
              "      <td>0</td>\n",
              "      <td>3</td>\n",
              "      <td>Braund, Mr. Owen Harris</td>\n",
              "      <td>male</td>\n",
              "      <td>22.0</td>\n",
              "      <td>1</td>\n",
              "      <td>0</td>\n",
              "      <td>A/5 21171</td>\n",
              "      <td>7.2500</td>\n",
              "      <td>NaN</td>\n",
              "      <td>S</td>\n",
              "    </tr>\n",
              "    <tr>\n",
              "      <th>1</th>\n",
              "      <td>2</td>\n",
              "      <td>1</td>\n",
              "      <td>1</td>\n",
              "      <td>Cumings, Mrs. John Bradley (Florence Briggs Th...</td>\n",
              "      <td>female</td>\n",
              "      <td>38.0</td>\n",
              "      <td>1</td>\n",
              "      <td>0</td>\n",
              "      <td>PC 17599</td>\n",
              "      <td>71.2833</td>\n",
              "      <td>C85</td>\n",
              "      <td>C</td>\n",
              "    </tr>\n",
              "    <tr>\n",
              "      <th>2</th>\n",
              "      <td>3</td>\n",
              "      <td>1</td>\n",
              "      <td>3</td>\n",
              "      <td>Heikkinen, Miss. Laina</td>\n",
              "      <td>female</td>\n",
              "      <td>26.0</td>\n",
              "      <td>0</td>\n",
              "      <td>0</td>\n",
              "      <td>STON/O2. 3101282</td>\n",
              "      <td>7.9250</td>\n",
              "      <td>NaN</td>\n",
              "      <td>S</td>\n",
              "    </tr>\n",
              "    <tr>\n",
              "      <th>3</th>\n",
              "      <td>4</td>\n",
              "      <td>1</td>\n",
              "      <td>1</td>\n",
              "      <td>Futrelle, Mrs. Jacques Heath (Lily May Peel)</td>\n",
              "      <td>female</td>\n",
              "      <td>35.0</td>\n",
              "      <td>1</td>\n",
              "      <td>0</td>\n",
              "      <td>113803</td>\n",
              "      <td>53.1000</td>\n",
              "      <td>C123</td>\n",
              "      <td>S</td>\n",
              "    </tr>\n",
              "    <tr>\n",
              "      <th>4</th>\n",
              "      <td>5</td>\n",
              "      <td>0</td>\n",
              "      <td>3</td>\n",
              "      <td>Allen, Mr. William Henry</td>\n",
              "      <td>male</td>\n",
              "      <td>35.0</td>\n",
              "      <td>0</td>\n",
              "      <td>0</td>\n",
              "      <td>373450</td>\n",
              "      <td>8.0500</td>\n",
              "      <td>NaN</td>\n",
              "      <td>S</td>\n",
              "    </tr>\n",
              "  </tbody>\n",
              "</table>\n",
              "</div>\n",
              "    <div class=\"colab-df-buttons\">\n",
              "\n",
              "  <div class=\"colab-df-container\">\n",
              "    <button class=\"colab-df-convert\" onclick=\"convertToInteractive('df-1e0b530d-4d95-4a98-ae09-1af8a63bf3ee')\"\n",
              "            title=\"Convert this dataframe to an interactive table.\"\n",
              "            style=\"display:none;\">\n",
              "\n",
              "  <svg xmlns=\"http://www.w3.org/2000/svg\" height=\"24px\" viewBox=\"0 -960 960 960\">\n",
              "    <path d=\"M120-120v-720h720v720H120Zm60-500h600v-160H180v160Zm220 220h160v-160H400v160Zm0 220h160v-160H400v160ZM180-400h160v-160H180v160Zm440 0h160v-160H620v160ZM180-180h160v-160H180v160Zm440 0h160v-160H620v160Z\"/>\n",
              "  </svg>\n",
              "    </button>\n",
              "\n",
              "  <style>\n",
              "    .colab-df-container {\n",
              "      display:flex;\n",
              "      gap: 12px;\n",
              "    }\n",
              "\n",
              "    .colab-df-convert {\n",
              "      background-color: #E8F0FE;\n",
              "      border: none;\n",
              "      border-radius: 50%;\n",
              "      cursor: pointer;\n",
              "      display: none;\n",
              "      fill: #1967D2;\n",
              "      height: 32px;\n",
              "      padding: 0 0 0 0;\n",
              "      width: 32px;\n",
              "    }\n",
              "\n",
              "    .colab-df-convert:hover {\n",
              "      background-color: #E2EBFA;\n",
              "      box-shadow: 0px 1px 2px rgba(60, 64, 67, 0.3), 0px 1px 3px 1px rgba(60, 64, 67, 0.15);\n",
              "      fill: #174EA6;\n",
              "    }\n",
              "\n",
              "    .colab-df-buttons div {\n",
              "      margin-bottom: 4px;\n",
              "    }\n",
              "\n",
              "    [theme=dark] .colab-df-convert {\n",
              "      background-color: #3B4455;\n",
              "      fill: #D2E3FC;\n",
              "    }\n",
              "\n",
              "    [theme=dark] .colab-df-convert:hover {\n",
              "      background-color: #434B5C;\n",
              "      box-shadow: 0px 1px 3px 1px rgba(0, 0, 0, 0.15);\n",
              "      filter: drop-shadow(0px 1px 2px rgba(0, 0, 0, 0.3));\n",
              "      fill: #FFFFFF;\n",
              "    }\n",
              "  </style>\n",
              "\n",
              "    <script>\n",
              "      const buttonEl =\n",
              "        document.querySelector('#df-1e0b530d-4d95-4a98-ae09-1af8a63bf3ee button.colab-df-convert');\n",
              "      buttonEl.style.display =\n",
              "        google.colab.kernel.accessAllowed ? 'block' : 'none';\n",
              "\n",
              "      async function convertToInteractive(key) {\n",
              "        const element = document.querySelector('#df-1e0b530d-4d95-4a98-ae09-1af8a63bf3ee');\n",
              "        const dataTable =\n",
              "          await google.colab.kernel.invokeFunction('convertToInteractive',\n",
              "                                                    [key], {});\n",
              "        if (!dataTable) return;\n",
              "\n",
              "        const docLinkHtml = 'Like what you see? Visit the ' +\n",
              "          '<a target=\"_blank\" href=https://colab.research.google.com/notebooks/data_table.ipynb>data table notebook</a>'\n",
              "          + ' to learn more about interactive tables.';\n",
              "        element.innerHTML = '';\n",
              "        dataTable['output_type'] = 'display_data';\n",
              "        await google.colab.output.renderOutput(dataTable, element);\n",
              "        const docLink = document.createElement('div');\n",
              "        docLink.innerHTML = docLinkHtml;\n",
              "        element.appendChild(docLink);\n",
              "      }\n",
              "    </script>\n",
              "  </div>\n",
              "\n",
              "\n",
              "<div id=\"df-b65ed471-a6a5-4b82-a6a4-4f53e41266d2\">\n",
              "  <button class=\"colab-df-quickchart\" onclick=\"quickchart('df-b65ed471-a6a5-4b82-a6a4-4f53e41266d2')\"\n",
              "            title=\"Suggest charts.\"\n",
              "            style=\"display:none;\">\n",
              "\n",
              "<svg xmlns=\"http://www.w3.org/2000/svg\" height=\"24px\"viewBox=\"0 0 24 24\"\n",
              "     width=\"24px\">\n",
              "    <g>\n",
              "        <path d=\"M19 3H5c-1.1 0-2 .9-2 2v14c0 1.1.9 2 2 2h14c1.1 0 2-.9 2-2V5c0-1.1-.9-2-2-2zM9 17H7v-7h2v7zm4 0h-2V7h2v10zm4 0h-2v-4h2v4z\"/>\n",
              "    </g>\n",
              "</svg>\n",
              "  </button>\n",
              "\n",
              "<style>\n",
              "  .colab-df-quickchart {\n",
              "      --bg-color: #E8F0FE;\n",
              "      --fill-color: #1967D2;\n",
              "      --hover-bg-color: #E2EBFA;\n",
              "      --hover-fill-color: #174EA6;\n",
              "      --disabled-fill-color: #AAA;\n",
              "      --disabled-bg-color: #DDD;\n",
              "  }\n",
              "\n",
              "  [theme=dark] .colab-df-quickchart {\n",
              "      --bg-color: #3B4455;\n",
              "      --fill-color: #D2E3FC;\n",
              "      --hover-bg-color: #434B5C;\n",
              "      --hover-fill-color: #FFFFFF;\n",
              "      --disabled-bg-color: #3B4455;\n",
              "      --disabled-fill-color: #666;\n",
              "  }\n",
              "\n",
              "  .colab-df-quickchart {\n",
              "    background-color: var(--bg-color);\n",
              "    border: none;\n",
              "    border-radius: 50%;\n",
              "    cursor: pointer;\n",
              "    display: none;\n",
              "    fill: var(--fill-color);\n",
              "    height: 32px;\n",
              "    padding: 0;\n",
              "    width: 32px;\n",
              "  }\n",
              "\n",
              "  .colab-df-quickchart:hover {\n",
              "    background-color: var(--hover-bg-color);\n",
              "    box-shadow: 0 1px 2px rgba(60, 64, 67, 0.3), 0 1px 3px 1px rgba(60, 64, 67, 0.15);\n",
              "    fill: var(--button-hover-fill-color);\n",
              "  }\n",
              "\n",
              "  .colab-df-quickchart-complete:disabled,\n",
              "  .colab-df-quickchart-complete:disabled:hover {\n",
              "    background-color: var(--disabled-bg-color);\n",
              "    fill: var(--disabled-fill-color);\n",
              "    box-shadow: none;\n",
              "  }\n",
              "\n",
              "  .colab-df-spinner {\n",
              "    border: 2px solid var(--fill-color);\n",
              "    border-color: transparent;\n",
              "    border-bottom-color: var(--fill-color);\n",
              "    animation:\n",
              "      spin 1s steps(1) infinite;\n",
              "  }\n",
              "\n",
              "  @keyframes spin {\n",
              "    0% {\n",
              "      border-color: transparent;\n",
              "      border-bottom-color: var(--fill-color);\n",
              "      border-left-color: var(--fill-color);\n",
              "    }\n",
              "    20% {\n",
              "      border-color: transparent;\n",
              "      border-left-color: var(--fill-color);\n",
              "      border-top-color: var(--fill-color);\n",
              "    }\n",
              "    30% {\n",
              "      border-color: transparent;\n",
              "      border-left-color: var(--fill-color);\n",
              "      border-top-color: var(--fill-color);\n",
              "      border-right-color: var(--fill-color);\n",
              "    }\n",
              "    40% {\n",
              "      border-color: transparent;\n",
              "      border-right-color: var(--fill-color);\n",
              "      border-top-color: var(--fill-color);\n",
              "    }\n",
              "    60% {\n",
              "      border-color: transparent;\n",
              "      border-right-color: var(--fill-color);\n",
              "    }\n",
              "    80% {\n",
              "      border-color: transparent;\n",
              "      border-right-color: var(--fill-color);\n",
              "      border-bottom-color: var(--fill-color);\n",
              "    }\n",
              "    90% {\n",
              "      border-color: transparent;\n",
              "      border-bottom-color: var(--fill-color);\n",
              "    }\n",
              "  }\n",
              "</style>\n",
              "\n",
              "  <script>\n",
              "    async function quickchart(key) {\n",
              "      const quickchartButtonEl =\n",
              "        document.querySelector('#' + key + ' button');\n",
              "      quickchartButtonEl.disabled = true;  // To prevent multiple clicks.\n",
              "      quickchartButtonEl.classList.add('colab-df-spinner');\n",
              "      try {\n",
              "        const charts = await google.colab.kernel.invokeFunction(\n",
              "            'suggestCharts', [key], {});\n",
              "      } catch (error) {\n",
              "        console.error('Error during call to suggestCharts:', error);\n",
              "      }\n",
              "      quickchartButtonEl.classList.remove('colab-df-spinner');\n",
              "      quickchartButtonEl.classList.add('colab-df-quickchart-complete');\n",
              "    }\n",
              "    (() => {\n",
              "      let quickchartButtonEl =\n",
              "        document.querySelector('#df-b65ed471-a6a5-4b82-a6a4-4f53e41266d2 button');\n",
              "      quickchartButtonEl.style.display =\n",
              "        google.colab.kernel.accessAllowed ? 'block' : 'none';\n",
              "    })();\n",
              "  </script>\n",
              "</div>\n",
              "    </div>\n",
              "  </div>\n"
            ]
          },
          "metadata": {},
          "execution_count": 19
        }
      ],
      "source": [
        "titanic = pd.read_csv('../../data/titanic/train.csv')\n",
        "titanic.head()"
      ]
    },
    {
      "cell_type": "markdown",
      "id": "c52cf19d",
      "metadata": {
        "id": "c52cf19d"
      },
      "source": [
        "#### Задание 1\n",
        "Постройте графики распределения возвраста в зависмости от совокупности факторов:\n",
        "- пол\n",
        "- выжил или нет"
      ]
    },
    {
      "cell_type": "code",
      "execution_count": 307,
      "id": "9808138e",
      "metadata": {
        "colab": {
          "base_uri": "https://localhost:8080/",
          "height": 525
        },
        "id": "9808138e",
        "outputId": "3a68b168-0340-4d12-b266-829308975b5b"
      },
      "outputs": [
        {
          "output_type": "execute_result",
          "data": {
            "text/plain": [
              "<seaborn.axisgrid.FacetGrid at 0x78bfa1c0f4f0>"
            ]
          },
          "metadata": {},
          "execution_count": 307
        },
        {
          "output_type": "display_data",
          "data": {
            "text/plain": [
              "<Figure size 1072.11x500 with 2 Axes>"
            ],
            "image/png": "[encoded data removed]"
          },
          "metadata": {}
        }
      ],
      "source": [
        "sns.displot(\n",
        "    data=titanic,\n",
        "    x='Age',\n",
        "    col='Sex',\n",
        "    hue='Survived'\n",
        ")"
      ]
    },
    {
      "cell_type": "markdown",
      "id": "1bd49c04",
      "metadata": {
        "id": "1bd49c04"
      },
      "source": [
        "#### Задание 2\n",
        "Найдидте самое популярное женское имя"
      ]
    },
    {
      "cell_type": "code",
      "execution_count": 131,
      "id": "9e70d861",
      "metadata": {
        "id": "9e70d861",
        "colab": {
          "base_uri": "https://localhost:8080/"
        },
        "outputId": "5870e2ac-da45-412d-d33c-3dfc04e71c99"
      },
      "outputs": [
        {
          "output_type": "execute_result",
          "data": {
            "text/plain": [
              "Andersson,    6\n",
              "Name: Name, dtype: int64"
            ]
          },
          "metadata": {},
          "execution_count": 131
        }
      ],
      "source": [
        "titanic.loc[titanic['Sex'] == 'female', 'Name'].str.split().str[0].value_counts().head(1)"
      ]
    },
    {
      "cell_type": "markdown",
      "id": "4abfcc82",
      "metadata": {
        "id": "4abfcc82"
      },
      "source": [
        "#### Задание 3\n",
        "Сколько на Титанике было детей?"
      ]
    },
    {
      "cell_type": "code",
      "execution_count": 133,
      "id": "1e12cf54",
      "metadata": {
        "id": "1e12cf54",
        "colab": {
          "base_uri": "https://localhost:8080/"
        },
        "outputId": "d6c04751-71de-4e73-a878-cd40b8cfd049"
      },
      "outputs": [
        {
          "output_type": "execute_result",
          "data": {
            "text/plain": [
              "113"
            ]
          },
          "metadata": {},
          "execution_count": 133
        }
      ],
      "source": [
        "titanic.loc[titanic['Age'] < 18, 'PassengerId'].count()"
      ]
    },
    {
      "cell_type": "markdown",
      "id": "d4d8a084",
      "metadata": {
        "id": "d4d8a084"
      },
      "source": [
        "#### Задание 4\n",
        "Найдите и подкрепите агрументами такое правило, что\n",
        "1) все удовлетворяющие ему пассаижры выжили;\n",
        "2) все уодвлетворяющие ему пассажиры погибли.\n",
        "\n",
        "Постарайтесь найти такие правила, чтобы под них попало как можно большее число пассажиров"
      ]
    },
    {
      "cell_type": "code",
      "execution_count": 361,
      "id": "348a1bb1",
      "metadata": {
        "id": "348a1bb1",
        "colab": {
          "base_uri": "https://localhost:8080/",
          "height": 1000
        },
        "outputId": "8d8b7b7d-d94d-403a-e671-623931b04d91"
      },
      "outputs": [
        {
          "output_type": "stream",
          "name": "stdout",
          "text": [
            "В основном все женщины первого класса выжили, а все мужчины третьего и второго класса погибли\n",
            "               Survived\n",
            "Sex    Pclass          \n",
            "female 1       0.968085\n",
            "       2       0.921053\n",
            "       3       0.500000\n",
            "male   1       0.368852\n",
            "       2       0.157407\n",
            "       3       0.135447\n",
            "На графиках видно, что на некоторых отрезках возраста либо нет выживших, либо нет погибших\n",
            "Мне нужно было найти только эти большие отрезки, поэтому я немного подбирала, не осуждайте этот алгоритм, пожалуйста\n",
            "Все женщины, которые ехали в первом классе, в возрасте 26 - 49 выжили, всего их 42 человек(a)\n",
            "Все мужчины, которые ехали не в первом классе, в возрасте 46 - 61 погибли, всего их 23 человек(a)\n"
          ]
        },
        {
          "output_type": "display_data",
          "data": {
            "text/plain": [
              "<Figure size 1072.11x500 with 2 Axes>"
            ],
            "image/png": "[encoded data removed]"
          },
          "metadata": {}
        },
        {
          "output_type": "display_data",
          "data": {
            "text/plain": [
              "<Figure size 1072.11x500 with 2 Axes>"
            ],
            "image/png": "[encoded data removed]"
          },
          "metadata": {}
        }
      ],
      "source": [
        "print(\"В основном все женщины первого класса выжили, а все мужчины третьего и второго класса погибли\")\n",
        "print(titanic.pivot_table(values=['Survived'], index=['Sex', 'Pclass'], aggfunc='mean'))\n",
        "\n",
        "sns.displot(\n",
        "    data=titanic.loc[titanic['Pclass'] == 1],\n",
        "    x='Age',\n",
        "    col='Sex',\n",
        "    hue='Survived',\n",
        "\n",
        ")\n",
        "sns.displot(\n",
        "    data=titanic.loc[titanic['Pclass'] != 1],\n",
        "    x='Age',\n",
        "    col='Sex',\n",
        "    hue='Survived'\n",
        ")\n",
        "print(\"На графиках видно, что на некоторых отрезках возраста либо нет выживших, либо нет погибших\")\n",
        "print(\"Мне нужно было найти только эти большие отрезки, поэтому я немного подбирала, не осуждайте этот алгоритм, пожалуйста\")\n",
        "x = 0\n",
        "count1 = 0\n",
        "for i in range(25, 50):\n",
        "  if (titanic[(titanic['Age'] == i) & (titanic['Sex'] == 'female')& (titanic['Pclass'] == 1)].loc[titanic['Survived']==0, 'PassengerId'].count() == 0):\n",
        "      count1 += titanic[(titanic['Age'] == i) & (titanic['Sex'] == 'female')& (titanic['Pclass'] == 1)].loc[:,'PassengerId'].count()\n",
        "      if (x == 0):\n",
        "        x = i\n",
        "      else:\n",
        "        y = i\n",
        "  else:\n",
        "    x = 0\n",
        "    count1 = 0\n",
        "print(f\"Все женщины, которые ехали в первом классе, в возрасте {x} - {y} выжили, всего их {count1} человек(a)\")\n",
        "x = 0\n",
        "count1 = 0\n",
        "for i in range(40, 62):\n",
        "  if (titanic[(titanic['Age'] == i) & (titanic['Sex'] == 'male')& (titanic['Pclass'] != 1)].loc[titanic['Survived']==1, 'PassengerId'].count() == 0):\n",
        "      count1 += titanic[(titanic['Age'] == i) & (titanic['Sex'] == 'male') & (titanic['Pclass'] != 1)].loc[:,'PassengerId'].count()\n",
        "      if (x == 0):\n",
        "        x = i\n",
        "\n",
        "      else:\n",
        "        y = i\n",
        "  else:\n",
        "    x = 0\n",
        "    count1 = 0\n",
        "print(f\"Все мужчины, которые ехали не в первом классе, в возрасте {x} - {y} погибли, всего их {count1} человек(a)\")\n"
      ]
    },
    {
      "cell_type": "markdown",
      "id": "d24fc76c",
      "metadata": {
        "id": "d24fc76c"
      },
      "source": [
        "### Часть II"
      ]
    },
    {
      "cell_type": "code",
      "execution_count": 362,
      "id": "8bee9858",
      "metadata": {
        "id": "8bee9858"
      },
      "outputs": [],
      "source": [
        "data = pd.read_csv('../../data/hw2.csv')"
      ]
    },
    {
      "cell_type": "markdown",
      "id": "3ff45c3a",
      "metadata": {
        "id": "3ff45c3a"
      },
      "source": [
        "#### Задание 5\n",
        "Вам необхоидмо составить и обосновать правило, которое идеально классифицирует объекты из таблицы `data`.\n",
        "Класс примера находится в колонке `label`, а признаки — в колонках `x` и `y`"
      ]
    },
    {
      "cell_type": "code",
      "execution_count": 368,
      "id": "141aed0a",
      "metadata": {
        "id": "141aed0a",
        "colab": {
          "base_uri": "https://localhost:8080/",
          "height": 467
        },
        "outputId": "9de1bd85-db79-4eb9-baee-4fc1c43b1e44"
      },
      "outputs": [
        {
          "output_type": "stream",
          "name": "stdout",
          "text": [
            "label = sg(x)\n"
          ]
        },
        {
          "output_type": "display_data",
          "data": {
            "text/plain": [
              "<Figure size 640x480 with 1 Axes>"
            ],
            "image/png": "[encoded data removed]"
          },
          "metadata": {}
        }
      ],
      "source": [
        "sns.scatterplot(\n",
        "    data=data,\n",
        "    x='x',\n",
        "    y='y',\n",
        "    hue='label'\n",
        ")\n",
        "print(\"label = sg(y)\")"
      ]
    }
  ],
  "metadata": {
    "kernelspec": {
      "display_name": "Python 3 (ipykernel)",
      "language": "python",
      "name": "python3"
    },
    "language_info": {
      "codemirror_mode": {
        "name": "ipython",
        "version": 3
      },
      "file_extension": ".py",
      "mimetype": "text/x-python",
      "name": "python",
      "nbconvert_exporter": "python",
      "pygments_lexer": "ipython3",
      "version": "3.10.12"
    },
    "colab": {
      "provenance": []
    }
  },
  "nbformat": 4,
  "nbformat_minor": 5
}